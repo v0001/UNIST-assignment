{
  "nbformat": 4,
  "nbformat_minor": 0,
  "metadata": {
    "kernelspec": {
      "name": "python3",
      "display_name": "Python 3"
    },
    "colab": {
      "name": "hw1.ipynb",
      "provenance": [],
      "collapsed_sections": [],
      "toc_visible": true,
      "include_colab_link": true
    }
  },
  "cells": [
    {
      "cell_type": "markdown",
      "metadata": {
        "id": "view-in-github",
        "colab_type": "text"
      },
      "source": [
        "<a href=\"https://colab.research.google.com/github/v0001/UNIST-assignment/blob/master/2020_2)%20%ED%86%B5%EA%B3%84%ED%94%84%EB%A1%9C%EA%B7%B8%EB%9E%98%EB%B0%8D/Assignment1/hw1.ipynb\" target=\"_parent\"><img src=\"https://colab.research.google.com/assets/colab-badge.svg\" alt=\"Open In Colab\"/></a>"
      ]
    },
    {
      "cell_type": "markdown",
      "metadata": {
        "id": "eUZ_3mZXN81d"
      },
      "source": [
        "# Statistical Programming\n",
        "### Fall 2020\n",
        "### Homework 1 (Due Sep 18)"
      ]
    },
    {
      "cell_type": "code",
      "metadata": {
        "id": "uSNClnzLOttW"
      },
      "source": [
        "import numpy as np                # numpy로 다양한 수식을 사용\n",
        "import pandas as pd               # pandas lib 사용\n",
        "import matplotlib.pyplot as plt   # 그래프 \n",
        "import pandas.util.testing as tm\n",
        "import seaborn as sns\n",
        "import scipy.stats as ss\n",
        "\n",
        "%matplotlib inline"
      ],
      "execution_count": null,
      "outputs": []
    },
    {
      "cell_type": "markdown",
      "metadata": {
        "id": "Qio-V_OLN81f"
      },
      "source": [
        "# _1. Reproduce the Figure 2.1 with your convenient statistical software. Provide your code and its output. \n",
        "\n",
        "\n",
        "- histogram( x = grf, y = frequency) \n"
      ]
    },
    {
      "cell_type": "code",
      "metadata": {
        "id": "hZjPP_bBSM0f",
        "outputId": "d5424355-ed97-482b-8e68-0a442f708d3d",
        "colab": {
          "base_uri": "https://localhost:8080/",
          "height": 34
        }
      },
      "source": [
        "from google.colab import drive\n",
        "drive.mount('/content/drive')"
      ],
      "execution_count": null,
      "outputs": [
        {
          "output_type": "stream",
          "text": [
            "Mounted at /content/drive\n"
          ],
          "name": "stdout"
        }
      ]
    },
    {
      "cell_type": "code",
      "metadata": {
        "id": "UUXQIjYAR_ch"
      },
      "source": [
        "gfr = pd.read_table('/content/drive/My Drive/★UNIST/2020 2학기/Statistical Programming/Assignment 1/gfr.txt', names = ['Value'])"
      ],
      "execution_count": null,
      "outputs": []
    },
    {
      "cell_type": "code",
      "metadata": {
        "id": "ZPGr1naSR_fG",
        "outputId": "19032299-3c25-4608-81dd-3896346c1334",
        "colab": {
          "base_uri": "https://localhost:8080/",
          "height": 199
        }
      },
      "source": [
        "gfr.head()"
      ],
      "execution_count": null,
      "outputs": [
        {
          "output_type": "execute_result",
          "data": {
            "text/html": [
              "<div>\n",
              "<style scoped>\n",
              "    .dataframe tbody tr th:only-of-type {\n",
              "        vertical-align: middle;\n",
              "    }\n",
              "\n",
              "    .dataframe tbody tr th {\n",
              "        vertical-align: top;\n",
              "    }\n",
              "\n",
              "    .dataframe thead th {\n",
              "        text-align: right;\n",
              "    }\n",
              "</style>\n",
              "<table border=\"1\" class=\"dataframe\">\n",
              "  <thead>\n",
              "    <tr style=\"text-align: right;\">\n",
              "      <th></th>\n",
              "      <th>Value</th>\n",
              "    </tr>\n",
              "  </thead>\n",
              "  <tbody>\n",
              "    <tr>\n",
              "      <th>0</th>\n",
              "      <td>108</td>\n",
              "    </tr>\n",
              "    <tr>\n",
              "      <th>1</th>\n",
              "      <td>91</td>\n",
              "    </tr>\n",
              "    <tr>\n",
              "      <th>2</th>\n",
              "      <td>62</td>\n",
              "    </tr>\n",
              "    <tr>\n",
              "      <th>3</th>\n",
              "      <td>59</td>\n",
              "    </tr>\n",
              "    <tr>\n",
              "      <th>4</th>\n",
              "      <td>84</td>\n",
              "    </tr>\n",
              "  </tbody>\n",
              "</table>\n",
              "</div>"
            ],
            "text/plain": [
              "   Value\n",
              "0    108\n",
              "1     91\n",
              "2     62\n",
              "3     59\n",
              "4     84"
            ]
          },
          "metadata": {
            "tags": []
          },
          "execution_count": 4
        }
      ]
    },
    {
      "cell_type": "code",
      "metadata": {
        "id": "oYOG3ZvPaq9N"
      },
      "source": [
        "mean = gfr['Value'].mean()"
      ],
      "execution_count": null,
      "outputs": []
    },
    {
      "cell_type": "code",
      "metadata": {
        "id": "eIsGnDO3R_ip",
        "outputId": "ff13e0d4-2133-46be-db48-6fc36789d8d9",
        "colab": {
          "base_uri": "https://localhost:8080/",
          "height": 334
        }
      },
      "source": [
        "plt.figure(figsize=(10,5))\n",
        "ax_hist =sns.distplot(gfr, bins = 30, color = 'limegreen', kde = False, hist_kws=dict(edgecolor=\"k\", linewidth=2)) \n",
        "\n",
        "plt.xticks([20,40,60,80,100])\n",
        "plt.yticks([0,5,10,15,20,25,30])\n",
        "\n",
        "plt.tick_params(axis='x', direction='inout', top=False, bottom = True )\n",
        "plt.tick_params(axis='y', direction='inout', left=True )\n",
        "\n",
        "ax_hist.plot([mean], [-0.6], marker='^', markersize=9, color=\"red\")\n",
        "\n",
        "ax_hist.set_xlabel(\"gfr\", size=10)\n",
        "ax_hist.set_ylabel(\"Frequency\", size=10)\n",
        "\n",
        "plt.show()"
      ],
      "execution_count": null,
      "outputs": [
        {
          "output_type": "display_data",
          "data": {
            "image/png": "[encoded data removed]",
            "text/plain": [
              "<Figure size 720x360 with 1 Axes>"
            ]
          },
          "metadata": {
            "tags": [],
            "needs_background": "light"
          }
        }
      ]
    },
    {
      "cell_type": "markdown",
      "metadata": {
        "id": "jeYgusFtN81g"
      },
      "source": [
        "# _2. Reproduce the Table 2.1 with your convenient statistical software. Provide your code and its output. \n",
        "\n",
        "- Table (Estimate/Standard Error by mean, 25% Winsorised/median)"
      ]
    },
    {
      "cell_type": "code",
      "metadata": {
        "id": "ZXZG9IIQdy-p",
        "outputId": "553dd5a9-dd8e-4ce7-bc71-ebd9d4072043",
        "colab": {
          "base_uri": "https://localhost:8080/",
          "height": 290
        }
      },
      "source": [
        "gfr.describe()"
      ],
      "execution_count": null,
      "outputs": [
        {
          "output_type": "execute_result",
          "data": {
            "text/html": [
              "<div>\n",
              "<style scoped>\n",
              "    .dataframe tbody tr th:only-of-type {\n",
              "        vertical-align: middle;\n",
              "    }\n",
              "\n",
              "    .dataframe tbody tr th {\n",
              "        vertical-align: top;\n",
              "    }\n",
              "\n",
              "    .dataframe thead th {\n",
              "        text-align: right;\n",
              "    }\n",
              "</style>\n",
              "<table border=\"1\" class=\"dataframe\">\n",
              "  <thead>\n",
              "    <tr style=\"text-align: right;\">\n",
              "      <th></th>\n",
              "      <th>Value</th>\n",
              "    </tr>\n",
              "  </thead>\n",
              "  <tbody>\n",
              "    <tr>\n",
              "      <th>count</th>\n",
              "      <td>211.000000</td>\n",
              "    </tr>\n",
              "    <tr>\n",
              "      <th>mean</th>\n",
              "      <td>54.265403</td>\n",
              "    </tr>\n",
              "    <tr>\n",
              "      <th>std</th>\n",
              "      <td>13.720880</td>\n",
              "    </tr>\n",
              "    <tr>\n",
              "      <th>min</th>\n",
              "      <td>28.000000</td>\n",
              "    </tr>\n",
              "    <tr>\n",
              "      <th>25%</th>\n",
              "      <td>46.000000</td>\n",
              "    </tr>\n",
              "    <tr>\n",
              "      <th>50%</th>\n",
              "      <td>52.000000</td>\n",
              "    </tr>\n",
              "    <tr>\n",
              "      <th>75%</th>\n",
              "      <td>60.000000</td>\n",
              "    </tr>\n",
              "    <tr>\n",
              "      <th>max</th>\n",
              "      <td>108.000000</td>\n",
              "    </tr>\n",
              "  </tbody>\n",
              "</table>\n",
              "</div>"
            ],
            "text/plain": [
              "            Value\n",
              "count  211.000000\n",
              "mean    54.265403\n",
              "std     13.720880\n",
              "min     28.000000\n",
              "25%     46.000000\n",
              "50%     52.000000\n",
              "75%     60.000000\n",
              "max    108.000000"
            ]
          },
          "metadata": {
            "tags": []
          },
          "execution_count": 7
        }
      ]
    },
    {
      "cell_type": "markdown",
      "metadata": {
        "id": "2Wymf7bAfjns"
      },
      "source": [
        "## mean"
      ]
    },
    {
      "cell_type": "code",
      "metadata": {
        "id": "vQzP-9cXdzBu"
      },
      "source": [
        "est_mean = gfr.mean()"
      ],
      "execution_count": null,
      "outputs": []
    },
    {
      "cell_type": "code",
      "metadata": {
        "id": "l5RFoezSdzGg"
      },
      "source": [
        "gfr_size = len(gfr)      # gfr에 있는 데이터 갯수\n",
        "se_mean = np.sqrt(((gfr - est_mean)**2).sum() / (gfr_size * (gfr_size - 1)))\n",
        "se_mean_1 = np.sqrt(np.var(gfr, ddof = 1)/gfr_size)"
      ],
      "execution_count": null,
      "outputs": []
    },
    {
      "cell_type": "code",
      "metadata": {
        "id": "Gg91VM1ytHWP",
        "outputId": "368035ab-2858-4ced-f357-f0deea830ffe",
        "colab": {
          "base_uri": "https://localhost:8080/",
          "height": 70
        }
      },
      "source": [
        "mean, se_mean, se_mean_1"
      ],
      "execution_count": null,
      "outputs": [
        {
          "output_type": "execute_result",
          "data": {
            "text/plain": [
              "(54.2654028436019, Value    0.944584\n",
              " dtype: float64, Value    0.944584\n",
              " dtype: float64)"
            ]
          },
          "metadata": {
            "tags": []
          },
          "execution_count": 10
        }
      ]
    },
    {
      "cell_type": "code",
      "metadata": {
        "id": "mYI3iKzL1Ing",
        "outputId": "7eae1da8-cdb5-44c3-e858-3c1232b8d999",
        "colab": {
          "base_uri": "https://localhost:8080/",
          "height": 34
        }
      },
      "source": [
        "est_mean = round(est_mean.values[0],2)\n",
        "se_mean_1 = round(se_mean_1.values[0],2)\n",
        "est_mean, se_mean_1"
      ],
      "execution_count": null,
      "outputs": [
        {
          "output_type": "execute_result",
          "data": {
            "text/plain": [
              "(54.27, 0.94)"
            ]
          },
          "metadata": {
            "tags": []
          },
          "execution_count": 11
        }
      ]
    },
    {
      "cell_type": "markdown",
      "metadata": {
        "id": "8pbokakifwk-"
      },
      "source": [
        "## Bootstrap samples"
      ]
    },
    {
      "cell_type": "code",
      "metadata": {
        "id": "jaAZvqfDfiwo"
      },
      "source": [
        "win_boots = []\n",
        "med_boots = []\n",
        "for _ in range(1000):\n",
        "    data = gfr.sample(n=gfr_size, replace=True)\n",
        "    q25, q75 = data.quantile(q=0.25), data.quantile(q=0.75)\n",
        "    result = data.clip(lower=q25, upper=q75, axis = 1)\n",
        "    win_boots.append(result.mean())       # 25-75 평균\n",
        "    med_boots.append(result.median())     # 중간값"
      ],
      "execution_count": null,
      "outputs": []
    },
    {
      "cell_type": "code",
      "metadata": {
        "id": "CTSUEVNm83Kj",
        "outputId": "adc291c1-77ca-4add-faff-a863dcc0ee32",
        "colab": {
          "base_uri": "https://localhost:8080/",
          "height": 34
        }
      },
      "source": [
        "mean_w25 = np.mean(win_boots)\n",
        "se_w25 = np.var(win_boots, ddof=1)\n",
        "mean_w25, se_w25, len(win_boots)"
      ],
      "execution_count": null,
      "outputs": [
        {
          "output_type": "execute_result",
          "data": {
            "text/plain": [
              "(52.87980805687204, 0.8526679976117264, 1000)"
            ]
          },
          "metadata": {
            "tags": []
          },
          "execution_count": 13
        }
      ]
    },
    {
      "cell_type": "code",
      "metadata": {
        "id": "8imngQsB3djp",
        "outputId": "867cf2c8-e54b-460f-d1ec-9ef60b28beaa",
        "colab": {
          "base_uri": "https://localhost:8080/",
          "height": 34
        }
      },
      "source": [
        "mean_w25 = round(mean_w25, 2)\n",
        "se_w25 = round(se_w25,2)\n",
        "\n",
        "mean_w25,se_w25"
      ],
      "execution_count": null,
      "outputs": [
        {
          "output_type": "execute_result",
          "data": {
            "text/plain": [
              "(52.88, 0.85)"
            ]
          },
          "metadata": {
            "tags": []
          },
          "execution_count": 14
        }
      ]
    },
    {
      "cell_type": "markdown",
      "metadata": {
        "id": "FfLOW8DFgB0O"
      },
      "source": [
        "## Median"
      ]
    },
    {
      "cell_type": "code",
      "metadata": {
        "id": "zd4dLHCzfilO"
      },
      "source": [
        "median = gfr.median()\n",
        "median = round(median.values[0],2)"
      ],
      "execution_count": null,
      "outputs": []
    },
    {
      "cell_type": "code",
      "metadata": {
        "id": "KNbfKJKE5JOq"
      },
      "source": [
        "median_w25mean = np.mean(med_boots)\n",
        "median_w25mean = round(median_w25mean,2)"
      ],
      "execution_count": null,
      "outputs": []
    },
    {
      "cell_type": "code",
      "metadata": {
        "id": "l0E-NS-QgGT3"
      },
      "source": [
        "se_median = np.var(med_boots, ddof=1)\n",
        "se_median = round(se_median,2)"
      ],
      "execution_count": null,
      "outputs": []
    },
    {
      "cell_type": "code",
      "metadata": {
        "id": "4oI7TjR13MBE",
        "outputId": "49951027-9a45-4ad0-c574-589b83fe93c8",
        "colab": {
          "base_uri": "https://localhost:8080/",
          "height": 34
        }
      },
      "source": [
        "median, median_w25mean, se_median"
      ],
      "execution_count": null,
      "outputs": [
        {
          "output_type": "execute_result",
          "data": {
            "text/plain": [
              "(52.0, 52.17, 0.78)"
            ]
          },
          "metadata": {
            "tags": []
          },
          "execution_count": 18
        }
      ]
    },
    {
      "cell_type": "markdown",
      "metadata": {
        "id": "LLcD7Y-SdZ6s"
      },
      "source": [
        "## Result"
      ]
    },
    {
      "cell_type": "code",
      "metadata": {
        "id": "JJgk_6yOgJzF",
        "outputId": "8024c56d-2584-4edb-aa12-a7b35b51f8e3",
        "colab": {
          "base_uri": "https://localhost:8080/",
          "height": 139
        }
      },
      "source": [
        "df = pd.DataFrame (data = {'Estimate' : [est_mean,mean_w25,median_w25mean], 'Standard error': [se_mean_1,se_w25,se_median]},\n",
        "                   index = ['mean', '25% Winsorized mean', 'median'],columns = ['Estimate', 'Standard error'])\n",
        "df"
      ],
      "execution_count": null,
      "outputs": [
        {
          "output_type": "execute_result",
          "data": {
            "text/html": [
              "<div>\n",
              "<style scoped>\n",
              "    .dataframe tbody tr th:only-of-type {\n",
              "        vertical-align: middle;\n",
              "    }\n",
              "\n",
              "    .dataframe tbody tr th {\n",
              "        vertical-align: top;\n",
              "    }\n",
              "\n",
              "    .dataframe thead th {\n",
              "        text-align: right;\n",
              "    }\n",
              "</style>\n",
              "<table border=\"1\" class=\"dataframe\">\n",
              "  <thead>\n",
              "    <tr style=\"text-align: right;\">\n",
              "      <th></th>\n",
              "      <th>Estimate</th>\n",
              "      <th>Standard error</th>\n",
              "    </tr>\n",
              "  </thead>\n",
              "  <tbody>\n",
              "    <tr>\n",
              "      <th>mean</th>\n",
              "      <td>54.27</td>\n",
              "      <td>0.94</td>\n",
              "    </tr>\n",
              "    <tr>\n",
              "      <th>25% Winsorized mean</th>\n",
              "      <td>52.88</td>\n",
              "      <td>0.85</td>\n",
              "    </tr>\n",
              "    <tr>\n",
              "      <th>median</th>\n",
              "      <td>52.17</td>\n",
              "      <td>0.78</td>\n",
              "    </tr>\n",
              "  </tbody>\n",
              "</table>\n",
              "</div>"
            ],
            "text/plain": [
              "                     Estimate  Standard error\n",
              "mean                    54.27            0.94\n",
              "25% Winsorized mean     52.88            0.85\n",
              "median                  52.17            0.78"
            ]
          },
          "metadata": {
            "tags": []
          },
          "execution_count": 19
        }
      ]
    },
    {
      "cell_type": "markdown",
      "metadata": {
        "id": "xLCJWYrLN81h"
      },
      "source": [
        "# _3. Reproduce the Figure 2.2 with your convenient statistical software. Provide your code and its output. \n",
        "\n",
        "- Neyman–Pearson alpha–beta curve for f0 \u0018 N .0; 1/,\n",
        "f1 \u0018 N .:5; 1/, and sample size n D 10. Red dots correspond to\n",
        "cutoffs c = .8; .6; .4;....,-.4"
      ]
    },
    {
      "cell_type": "code",
      "metadata": {
        "id": "2pnIg7Ftw4RF"
      },
      "source": [
        "def result_NP(x, cutoff, func1, func0):\n",
        "\n",
        "  L_x = func1.pdf(x) / func0.pdf(x)\n",
        "  log_L_x = np.log(L_x)\n",
        "  \n",
        "  if log_L_x >= cutoff:\n",
        "    return 1\n",
        "\n",
        "  else:\n",
        "    return 0"
      ],
      "execution_count": null,
      "outputs": []
    },
    {
      "cell_type": "code",
      "metadata": {
        "id": "W5UTnOtOw4Um"
      },
      "source": [
        "f0 = ss.norm(loc=0,scale= (1 / np.sqrt(10)))\n",
        "f1 = ss.norm(loc=0.5, scale= (1 / np.sqrt(10)) )\n",
        "\n",
        "n = 10\n",
        "repeat_times = 10000\n",
        "\n",
        "cutoffs =  [ 0.2 *x for x in range(-20,21) ] \n",
        "\n",
        "alphas = []\n",
        "betas = []\n",
        "\n",
        "for cutoff in cutoffs:\n",
        "  tmp_a = []\n",
        "  tmp_b = []\n",
        "  \n",
        "  for no in range(repeat_times):\n",
        "    a = f0.rvs(size=1)\n",
        "    b = f1.rvs(size=1)\n",
        "\n",
        "    tmp_a.append(result_NP(a, cutoff, f1, f0))\n",
        "    tmp_b.append(result_NP(b, cutoff, f1, f0))\n",
        "    \n",
        "\n",
        "  result_a = np.mean(tmp_a)\n",
        "  result_b = 1- np.mean(tmp_b)\n",
        "\n",
        "  alphas.append(result_a)\n",
        "  betas.append(result_b)\n",
        "\n",
        "  "
      ],
      "execution_count": null,
      "outputs": []
    },
    {
      "cell_type": "code",
      "metadata": {
        "id": "gKotMuWMw4aC"
      },
      "source": [
        "\n",
        "n = 10\n",
        "repeat_times = 10000\n",
        "cutoffs =  [ 0.2 *x for x in range(-4,3) ] \n",
        "\n",
        "alphas_target = []\n",
        "betas_target = []\n",
        "\n",
        "for cutoff in cutoffs:\n",
        "  tmp_a = []\n",
        "  tmp_b = []\n",
        "  \n",
        "  for no in range(repeat_times):\n",
        "    a = f0.rvs(size=1)\n",
        "    b = f1.rvs(size=1)\n",
        "\n",
        "    tmp_a.append(result_NP(a, cutoff, f1, f0))\n",
        "    tmp_b.append(result_NP(b, cutoff, f1, f0))\n",
        "    \n",
        "\n",
        "  result_a = np.mean(tmp_a)\n",
        "  result_b = 1- np.mean(tmp_b)\n",
        "\n",
        "  alphas_target.append(result_a)\n",
        "  betas_target.append(result_b)\n",
        "\n"
      ],
      "execution_count": null,
      "outputs": []
    },
    {
      "cell_type": "code",
      "metadata": {
        "id": "qD40UdePw4Xw",
        "outputId": "496e0faf-a40b-4a17-e4b4-f580532bea3f",
        "colab": {
          "base_uri": "https://localhost:8080/",
          "height": 334
        }
      },
      "source": [
        "plt.figure(figsize=(7,5))\n",
        "\n",
        "plt.xlabel('$\\\\alpha$')\n",
        "plt.ylabel('$\\\\beta$',rotation= 90 )\n",
        "# plt.xlim(-0.1, 1.05)\n",
        "# plt.ylim(-0.1, 1.05)\n",
        "x = [0,1]\n",
        "y = [0,1]\n",
        "\n",
        "[plt.axvline(x = _x, linewidth=1, color='k', linestyle=':') for _x in x]\n",
        "[plt.axhline(y = _y, linewidth=1, color='k', linestyle=':') for _y in y]\n",
        "# figure_2_2 = plt.plot(alphas_simulated, betas_simulated, 'ro', alphas_simulated, betas_simulated, 'k-')\n",
        "figure_2_2 = plt.plot(alphas, betas, alphas_target, betas_target, 'ro') "
      ],
      "execution_count": null,
      "outputs": [
        {
          "output_type": "display_data",
          "data": {
            "image/png": "[encoded data removed]",
            "text/plain": [
              "<Figure size 504x360 with 1 Axes>"
            ]
          },
          "metadata": {
            "tags": [],
            "needs_background": "light"
          }
        }
      ]
    },
    {
      "cell_type": "markdown",
      "metadata": {
        "id": "A2BwxtIbN81i"
      },
      "source": [
        "# _4. If a simple random sample $X_1, X_2,\\ldots,X_n$ has unknown finite variance $\\sigma^2$, then, we can consider the sample variance\n",
        "$$\n",
        "S^2=\\frac{1}{n}\\sum_{i=1}^n(X_i-\\bar{X})^2.\n",
        "$$\n",
        "Please derive the following result.\n",
        "$$\n",
        "ES^2=\\frac{n-1}{n}\\sigma^2.\n",
        "$$"
      ]
    },
    {
      "cell_type": "markdown",
      "metadata": {
        "id": "VdKMTYqSnkMc"
      },
      "source": [
        "$$\n",
        "ES^2=E[\\frac{1}{n}\\sum_{i=1}^n(X_i-μ)^2-(\\bar{X}-μ)^2] =\\frac{n-1}{n}\\sigma^2.\n",
        "$$\n"
      ]
    },
    {
      "cell_type": "markdown",
      "metadata": {
        "id": "8c9abrYfnCFg"
      },
      "source": [
        "## Demonstration \n",
        "$$\n",
        "ES^2=E[\\frac{1}{n}\\sum_{i=1}^n(X_i-\\bar{X})^2]\n",
        "$$\n",
        "\n",
        "$$\n",
        "=E[\\frac{1}{n}\\sum_{i=1}^n((X_i-μ)-(\\bar{X}-μ))^2]\n",
        "$$\n",
        "\n",
        "$$\n",
        "=E[\\frac{1}{n}\\sum_{i=1}^n((X_i-μ)^2-2(X_i-μ)(\\bar{X}-μ) + (\\bar{X}-μ)^2)]\n",
        "$$\n",
        "\n",
        "$$\n",
        "=E[\\frac{1}{n}\\sum_{i=1}^n(X_i-μ)^2 -\\frac{2}{n}(\\bar{X}-μ) \\sum_{i=1}^n(X_i-μ)+ \\frac{1}{n}(\\bar{X}-μ)^2\\sum_{i=1}^n1]\n",
        "$$\n",
        "\n",
        "$$\n",
        "=E[\\frac{1}{n}\\sum_{i=1}^n(X_i-μ)^2 -\\frac{2}{n}(\\bar{X}-μ) \\sum_{i=1}^n(X_i-μ)+ (\\bar{X}-μ)^2]\n",
        "$$\n",
        "\n",
        " **Refer to [Demon 1] below for the next step**\n",
        "\n",
        "$$\n",
        "=E[\\frac{1}{n}\\sum_{i=1}^n(X_i-μ)^2 -\\frac{2}{n}(\\bar{X}-μ)\\times n(\\bar{X}-μ)+ (\\bar{X}-μ)^2]\n",
        "$$\n",
        "\n",
        "$$\n",
        "=E[\\frac{1}{n}\\sum_{i=1}^n(X_i-μ)^2 -2(\\bar{X}-μ)^2+ (\\bar{X}-μ)^2]\n",
        "$$\n",
        "\n",
        "$$\n",
        "=E[\\frac{1}{n}\\sum_{i=1}^n(X_i-μ)^2-(\\bar{X}-μ)^2]\n",
        "$$\n",
        "\n",
        "$$\n",
        "=E[\\frac{1}{n}\\sum_{i=1}^n(X_i-μ)^2]-E[(\\bar{X}-μ)^2]\n",
        "$$\n",
        "\n",
        "$$\n",
        "=\\sigma^2 - \\frac{1}{n}\\sigma^2\n",
        "$$\n",
        "\n",
        "$$\n",
        "=\\frac{n-1}{n}\\sigma^2\n",
        "$$\n"
      ]
    },
    {
      "cell_type": "markdown",
      "metadata": {
        "id": "ynH2PqtItKwN"
      },
      "source": [
        "**[Demon 1]**\n",
        "$$\n",
        "\\bar{X}-μ = \\frac{1}{n}\\sum_{i=1}^nX_i-μ\n",
        "$$\n",
        "$$\n",
        "= \\frac{1}{n}\\sum_{i=1}^nX_i-\\frac{1}{n}\\sum_{i=1}^nμ\n",
        "$$\n",
        "$$\n",
        "= \\frac{1}{n}\\sum_{i=1}^n(X_i-μ)\n",
        "$$\n",
        "\n",
        "- Conclusion \n",
        "$$\n",
        "n(\\bar{X}-μ) = \\sum_{i=1}^n(X_i-μ)\n",
        "$$"
      ]
    }
  ]
}